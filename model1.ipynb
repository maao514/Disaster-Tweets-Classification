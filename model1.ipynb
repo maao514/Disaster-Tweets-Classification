{
 "cells": [
  {
   "cell_type": "code",
   "execution_count": 1,
   "metadata": {},
   "outputs": [],
   "source": [
    "from transformers import BertModel, BertTokenizer\n",
    "import torch\n",
    "\n",
    "\n",
    "device = \"cuda\" if torch.cuda.is_available() else \"cpu\"\n",
    "tokenizer = BertTokenizer.from_pretrained(\"./bert\")\n",
    "model = BertModel.from_pretrained(\"./bert\").to(device)\n",
    "def bert_embedding(text):\n",
    "    encoded_input = tokenizer(text, return_tensors='pt').to(device)\n",
    "    output = model(**encoded_input)\n",
    "    return output.last_hidden_state.cpu().detach()"
   ]
  },
  {
   "cell_type": "code",
   "execution_count": 1,
   "metadata": {},
   "outputs": [],
   "source": [
    "from sklearn.feature_extraction.text import TfidfVectorizer\n",
    "import pandas\n",
    "import torch\n",
    "\n",
    "train_pd = pandas.read_csv(\"./data/train.csv\")\n",
    "test_pd = pandas.read_csv(\"./data/test.csv\")\n",
    "train_X_pos, train_X_neg = [], []\n",
    "test_X = []\n",
    "vectorizer = TfidfVectorizer()\n",
    "\n",
    "all_text = pandas.concat([train_pd['text'], test_pd['text']], axis=0)\n",
    "vectorizer.fit(all_text)\n",
    "train_X = vectorizer.transform(train_pd['text'])\n",
    "test_X = vectorizer.transform(test_pd['text'])\n",
    "train_X_pos = train_X[train_pd['target'] == 1]\n",
    "train_X_neg = train_X[train_pd['target'] == 0]\n"
   ]
  },
  {
   "cell_type": "markdown",
   "metadata": {},
   "source": [
    "Define model class."
   ]
  },
  {
   "cell_type": "code",
   "execution_count": 21,
   "metadata": {},
   "outputs": [
    {
     "name": "stdout",
     "output_type": "stream",
     "text": [
      "27922\n"
     ]
    }
   ],
   "source": [
    "import torch\n",
    "n_features = len(vectorizer.get_feature_names_out())\n",
    "print(n_features)\n",
    "class Decoder(torch.nn.Module):\n",
    "    def __init__(self):\n",
    "        super().__init__()\n",
    "        self.bilstm = nn.LSTM(input_size=n_features, hidden_size=16, num_layers=1, bidirectional=True, batch_first=True)\n",
    "\n",
    "        self.attention = torch.nn.MultiheadAttention(32, 1, batch_first=True)\n",
    "        self.fc = torch.nn.Linear(32, 2)\n",
    "\n",
    "    def forward(self, x):\n",
    "        x, _ = self.bilstm(x)\n",
    "        x, _ = self.attention(x, x, x)\n",
    "        x = x[:, 0, :]\n",
    "        x = self.fc(x)\n",
    "        return x"
   ]
  },
  {
   "cell_type": "code",
   "execution_count": 5,
   "metadata": {},
   "outputs": [],
   "source": [
    "import random\n",
    "\n",
    "\n",
    "def align(X, max_length=32):\n",
    "    if X.shape[0] < max_length:\n",
    "        X = torch.concat([X, torch.zeros((max_length - X.shape[0], X.shape[1]))], dim=0)\n",
    "    return X[:max_length, :]\n",
    "\n",
    "random.seed(1)\n",
    "train_X_pos_tensors = [torch.tensor(X.toarray()) for X in train_X_pos]\n",
    "train_X_neg_tensors = [torch.tensor(X.toarray()) for X in train_X_neg]\n",
    "select = [(align(X), 1) for X in train_X_pos_tensors] + [(align(X), 0) for X in train_X_neg_tensors]\n",
    "random.shuffle(select)\n",
    "train_set = select[:]\n",
    "val_set = select[int(0.9 * len(select)):]\n",
    "train_loader = torch.utils.data.DataLoader(train_set, batch_size=64, shuffle=True)\n",
    "val_loader = torch.utils.data.DataLoader(val_set, batch_size=128, shuffle=False)"
   ]
  },
  {
   "cell_type": "code",
   "execution_count": 18,
   "metadata": {},
   "outputs": [
    {
     "name": "stdout",
     "output_type": "stream",
     "text": [
      "epoch: 0, train acc: 20.000000046064223\n",
      "epoch: 0, val acc: 20.01766094324104\n",
      "epoch: 1, train acc: 20.0069376465\n",
      "epoch: 1, val acc: 20.03784936628422\n",
      "epoch: 2, train acc: 20.00766772340861\n",
      "epoch: 2, val acc: 20.11607806863097\n",
      "epoch: 3, train acc: 20.020050984520516\n",
      "epoch: 3, val acc: 20.12337049570623\n",
      "epoch: 4, train acc: 20.045199799252963\n",
      "epoch: 4, val acc: 20.158877930272887\n",
      "epoch: 5, train acc: 20.180841897382443\n",
      "epoch: 5, val acc: 20.474617175963065\n",
      "epoch: 6, train acc: 20.770997611632268\n",
      "epoch: 6, val acc: 20.860446106043106\n",
      "epoch: 7, train acc: 20.965907651095094\n",
      "epoch: 7, val acc: 21.026087291945863\n",
      "epoch: 8, train acc: 21.466239775077796\n",
      "epoch: 8, val acc: 21.061683458241294\n",
      "epoch: 9, train acc: 21.497473983369304\n",
      "epoch: 9, val acc: 22.555409376876838\n",
      "epoch: 10, train acc: 21.670848391014072\n",
      "epoch: 10, val acc: 22.827065382305502\n",
      "epoch: 11, train acc: 22.17573214929281\n",
      "epoch: 11, val acc: 22.868424433854916\n",
      "epoch: 12, train acc: 22.48615402744424\n",
      "epoch: 12, val acc: 22.966369660903418\n",
      "epoch: 13, train acc: 22.75451269757516\n",
      "epoch: 13, val acc: 22.96672486861995\n",
      "epoch: 14, train acc: 23.660282428995792\n",
      "epoch: 14, val acc: 23.359080181524764\n",
      "epoch: 15, train acc: 23.760360460432388\n",
      "epoch: 15, val acc: 23.618994624972593\n",
      "epoch: 16, train acc: 24.384298349921835\n",
      "epoch: 16, val acc: 24.52973375932904\n",
      "epoch: 17, train acc: 25.239244636880287\n",
      "epoch: 17, val acc: 27.644952691483024\n",
      "epoch: 18, train acc: 25.5888893331805\n",
      "epoch: 18, val acc: 29.016370302040283\n",
      "epoch: 19, train acc: 25.980750530679504\n",
      "epoch: 19, val acc: 29.279905975580313\n",
      "epoch: 20, train acc: 26.707361600597608\n",
      "epoch: 20, val acc: 29.433678930376168\n",
      "epoch: 21, train acc: 28.293764434519925\n",
      "epoch: 21, val acc: 30.41111092475532\n",
      "epoch: 22, train acc: 28.983270767633396\n",
      "epoch: 22, val acc: 30.44794802016885\n",
      "epoch: 23, train acc: 30.20894027514777\n",
      "epoch: 23, val acc: 31.659709927384153\n",
      "epoch: 24, train acc: 30.320425321723143\n",
      "epoch: 24, val acc: 32.80027012251551\n",
      "epoch: 25, train acc: 31.887119142647084\n",
      "epoch: 25, val acc: 32.891195210133134\n",
      "epoch: 26, train acc: 32.44258721216286\n",
      "epoch: 26, val acc: 35.54915784512279\n",
      "epoch: 27, train acc: 36.364479917788714\n",
      "epoch: 27, val acc: 37.03473627362099\n",
      "epoch: 28, train acc: 39.059067583017026\n",
      "epoch: 28, val acc: 37.7528923411107\n",
      "epoch: 29, train acc: 39.44299627111401\n",
      "epoch: 29, val acc: 39.59107333420762\n",
      "epoch: 30, train acc: 40.552708198054816\n",
      "epoch: 30, val acc: 39.99876807240487\n",
      "epoch: 31, train acc: 42.50956937685987\n",
      "epoch: 31, val acc: 41.2823563503094\n",
      "epoch: 32, train acc: 43.3084205212246\n",
      "epoch: 32, val acc: 41.5166648661248\n",
      "epoch: 33, train acc: 43.36648138528944\n",
      "epoch: 33, val acc: 42.363313131317824\n",
      "epoch: 34, train acc: 44.39740012552019\n",
      "epoch: 34, val acc: 42.37563433979672\n",
      "epoch: 35, train acc: 46.93975231428527\n",
      "epoch: 35, val acc: 45.01048968738252\n",
      "epoch: 36, train acc: 46.99310159930519\n",
      "epoch: 36, val acc: 45.38939322945752\n",
      "epoch: 37, train acc: 47.97673273014269\n",
      "epoch: 37, val acc: 46.08136670567194\n",
      "epoch: 38, train acc: 48.04208451580938\n",
      "epoch: 38, val acc: 52.53571146464445\n",
      "epoch: 39, train acc: 48.11402209729919\n",
      "epoch: 39, val acc: 53.12279014458487\n",
      "epoch: 40, train acc: 49.33639691340552\n",
      "epoch: 40, val acc: 54.67173037316951\n",
      "epoch: 41, train acc: 50.318944995450565\n",
      "epoch: 41, val acc: 54.86947722410427\n",
      "epoch: 42, train acc: 53.0200696310431\n",
      "epoch: 42, val acc: 58.02923405367977\n",
      "epoch: 43, train acc: 54.75690081469791\n",
      "epoch: 43, val acc: 59.006316985774156\n",
      "epoch: 44, train acc: 54.92800724473692\n",
      "epoch: 44, val acc: 59.0246594011684\n",
      "epoch: 45, train acc: 55.28249806929816\n",
      "epoch: 45, val acc: 60.84463988342089\n",
      "epoch: 46, train acc: 60.12876186093396\n",
      "epoch: 46, val acc: 62.99696119711513\n",
      "epoch: 47, train acc: 60.15776929525262\n",
      "epoch: 47, val acc: 63.83777027371871\n",
      "epoch: 48, train acc: 65.62475884135212\n",
      "epoch: 48, val acc: 64.52839981856597\n",
      "epoch: 49, train acc: 68.73225024563781\n",
      "epoch: 49, val acc: 67.01004859652821\n"
     ]
    }
   ],
   "source": [
    "import torch.nn as nn\n",
    "\n",
    "device = \"cuda\" if torch.cuda.is_available() else \"cpu\"\n",
    "decoder = Decoder().to(device)\n",
    "epochs = 50\n",
    "optimizer = torch.optim.Adam(decoder.parameters(), lr=1e-4, weight_decay=1e-5)\n",
    "criterion = torch.nn.CrossEntropyLoss().to(device)\n",
    "train_acc=[]\n",
    "val_acc = []\n",
    "for epoch in range(epochs):\n",
    "    decoder.train()\n",
    "    for data, label in train_loader:\n",
    "        data, label = data.float().to(device), label.to(device)\n",
    "        output = decoder(data)\n",
    "        loss = criterion(output, label)\n",
    "        optimizer.zero_grad()\n",
    "        loss.backward()\n",
    "        optimizer.step()\n",
    "    decoder.eval()\n",
    "    correct, total = 0, 0\n",
    "    with torch.no_grad():\n",
    "        for data, label in train_loader:\n",
    "            data, label = data.float().to(device), label.to(device)\n",
    "            output = torch.argmax(decoder(data), dim=1)\n",
    "            correct += torch.sum(output == label)\n",
    "            total += data.size(0)\n",
    "\n",
    "    train_acc.append(correct / total)\n",
    "    print(f\"epoch: {epoch}, train acc: {correct / total}\")\n",
    "    correct, total = 0, 0\n",
    "    with torch.no_grad():\n",
    "        for data, label in val_loader:\n",
    "            data, label = data.float().to(device), label.to(device)\n",
    "            output = torch.argmax(decoder(data), dim=1)\n",
    "            correct += torch.sum(output == label)\n",
    "            total += data.size(0)\n",
    "    val_acc.append(correct / total)\n",
    "    print(f\"epoch: {epoch}, val acc: {correct / total}\")"
   ]
  },
  {
   "cell_type": "markdown",
   "metadata": {},
   "source": [
    "Print the metrics of the trained models on training set and validation set."
   ]
  },
  {
   "cell_type": "code",
   "execution_count": 20,
   "metadata": {},
   "outputs": [
    {
     "data": {
      "image/png": "[encoded data removed]",
      "text/plain": [
       "<Figure size 1200x800 with 1 Axes>"
      ]
     },
     "metadata": {},
     "output_type": "display_data"
    }
   ],
   "source": [
    "import matplotlib.pyplot as plt\n",
    "epochs2 = range(1, 50 + 1)\n",
    "plt.figure(figsize=(12, 8))\n",
    "\n",
    "plt.subplot(3, 1, 1)\n",
    "plt.plot(epochs2, train_acc, 'bo-', label='Train Acccuracy')\n",
    "plt.plot(epochs2, val_acc, 'ro-', label='Validation Acccuracy')\n",
    "plt.title('Training and Validation Acccuracy')\n",
    "plt.xlabel('Epochs')\n",
    "plt.ylabel('Precision')\n",
    "plt.legend()\n",
    "\n",
    "\n",
    "plt.tight_layout()\n",
    "plt.show()\n"
   ]
  }
 ],
 "metadata": {
  "kernelspec": {
   "display_name": "Python 3 (ipykernel)",
   "language": "python",
   "name": "python3"
  },
  "language_info": {
   "codemirror_mode": {
    "name": "ipython",
    "version": 3
   },
   "file_extension": ".py",
   "mimetype": "text/x-python",
   "name": "python",
   "nbconvert_exporter": "python",
   "pygments_lexer": "ipython3",
   "version": "3.11.5"
  }
 },
 "nbformat": 4,
 "nbformat_minor": 4
}
